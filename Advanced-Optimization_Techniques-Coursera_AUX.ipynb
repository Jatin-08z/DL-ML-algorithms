{
 "cells": [
  {
   "cell_type": "markdown",
   "metadata": {},
   "source": [
    "Stochastic Gradient Descent."
   ]
  },
  {
   "cell_type": "code",
   "execution_count": 16,
   "metadata": {},
   "outputs": [],
   "source": [
    "import numpy as np\n",
    "import math\n",
    "from opt_utils_v1a import load_params_and_grads, initialize_parameters, forward_propagation, backward_propagation\n",
    "from opt_utils_v1a import compute_cost, predict, predict_dec, plot_decision_boundary, load_dataset\n",
    "from testCases import *"
   ]
  },
  {
   "cell_type": "code",
   "execution_count": 97,
   "metadata": {},
   "outputs": [
    {
     "data": {
      "text/plain": [
       "(12288, 64)"
      ]
     },
     "execution_count": 97,
     "metadata": {},
     "output_type": "execute_result"
    }
   ],
   "source": [
    "m = 1035\n",
    "mini_batch_size = 64\n",
    "k = 1\n",
    "\n",
    "X[:, k*mini_batch_size : (k+1) * mini_batch_size].shape"
   ]
  },
  {
   "cell_type": "code",
   "execution_count": 104,
   "metadata": {},
   "outputs": [
    {
     "data": {
      "text/plain": [
       "1"
      ]
     },
     "execution_count": 104,
     "metadata": {},
     "output_type": "execute_result"
    }
   ],
   "source": [
    "np.zeros((2,1)).shape[1]"
   ]
  },
  {
   "cell_type": "code",
   "execution_count": 105,
   "metadata": {},
   "outputs": [],
   "source": [
    "X = np.random.rand(12288, 209) # each column is an example.\n",
    "Y = np.random.rand(1, 209)\n",
    "Y = np.int64(Y >0.45) #converts a Y of random numbers to a Y of only ones and zeros"
   ]
  },
  {
   "cell_type": "code",
   "execution_count": 110,
   "metadata": {},
   "outputs": [
    {
     "data": {
      "text/plain": [
       "3.0"
      ]
     },
     "execution_count": 110,
     "metadata": {},
     "output_type": "execute_result"
    }
   ],
   "source": [
    "np.sqrt(9)"
   ]
  },
  {
   "cell_type": "code",
   "execution_count": 77,
   "metadata": {},
   "outputs": [
    {
     "data": {
      "text/plain": [
       "(1, 64)"
      ]
     },
     "execution_count": 77,
     "metadata": {},
     "output_type": "execute_result"
    }
   ],
   "source": [
    "Y[:, 0: mini_batch_size].shape"
   ]
  },
  {
   "cell_type": "code",
   "execution_count": 72,
   "metadata": {},
   "outputs": [],
   "source": [
    "# c[:,0 :43] is meant for- give all rows from 0 to last row, give  columns from 0 to 43.\n",
    "#X[:, :4232] is error free for current X with 209 cols , it gives columns from 0 to min(4232, 209)"
   ]
  },
  {
   "cell_type": "code",
   "execution_count": 62,
   "metadata": {},
   "outputs": [],
   "source": [
    "m = 209\n",
    "permutation = list(np.random.permutation(m)) #random numbers generated from 1 to 209 , that will be used as indexes to put random images in a mini_batch.\n",
    "\n",
    "X[:, [2,1,90,208, 0]]  # fetches you 3nd , 2st, 91th, 209th, 1st example \n",
    "X_shuffled = X[:, permutation] # fetches you all the images in order described in the permutaions list.\n",
    "Y_shuffled = Y[:, permutation].reshape((1,m)) # synchronus shuffling of X and Y.\n",
    "\n",
    "num_full_mini_batches = m / mini_batch_size\n",
    "for k in range(0: num_full_mini_batches):\n",
    "    \n",
    "    mini_batch_X = X_shuffled[:, 0: mini_batch_size]\n",
    "    mini_batch_Y = Y_shuffled[:, 0: mini_batch_size]\n",
    "     "
   ]
  },
  {
   "cell_type": "code",
   "execution_count": 1,
   "metadata": {},
   "outputs": [
    {
     "ename": "SyntaxError",
     "evalue": "unexpected EOF while parsing (<ipython-input-1-c5ba7104d947>, line 1)",
     "output_type": "error",
     "traceback": [
      "\u001b[0;36m  File \u001b[0;32m\"<ipython-input-1-c5ba7104d947>\"\u001b[0;36m, line \u001b[0;32m1\u001b[0m\n\u001b[0;31m    for i in range(0, num_iterations):\u001b[0m\n\u001b[0m                                      ^\u001b[0m\n\u001b[0;31mSyntaxError\u001b[0m\u001b[0;31m:\u001b[0m unexpected EOF while parsing\n"
     ]
    }
   ],
   "source": [
    "for i in range(0, num_iterations):\n",
    "        for j in range(0, m):\n",
    "            \n",
    "            a, caches = forward_propagation(X[:,j], parameters)\n",
    "            cost  += compute_cost(a, Y[:, j]) # once one pass over the training set is over, then cost is eval\n",
    "            grads = backward_propagation(a, caches, parameters)\n",
    "            parameters = update_parameters(parameters, grads)\n",
    "            \n",
    "            "
   ]
  },
  {
   "cell_type": "code",
   "execution_count": null,
   "metadata": {},
   "outputs": [],
   "source": []
  }
 ],
 "metadata": {
  "kernelspec": {
   "display_name": "Python 3",
   "language": "python",
   "name": "python3"
  },
  "language_info": {
   "codemirror_mode": {
    "name": "ipython",
    "version": 3
   },
   "file_extension": ".py",
   "mimetype": "text/x-python",
   "name": "python",
   "nbconvert_exporter": "python",
   "pygments_lexer": "ipython3",
   "version": "3.7.3"
  }
 },
 "nbformat": 4,
 "nbformat_minor": 4
}
